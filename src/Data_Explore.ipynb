{
 "cells": [
  {
   "cell_type": "code",
   "execution_count": 1,
   "metadata": {
    "collapsed": true,
    "ExecuteTime": {
     "end_time": "2023-12-08T22:21:53.173814Z",
     "start_time": "2023-12-08T22:21:46.298218Z"
    }
   },
   "outputs": [
    {
     "name": "stderr",
     "output_type": "stream",
     "text": [
      "WARNING: No IPv4 address found on anpi0 !\n",
      "WARNING: No IPv4 address found on anpi1 !\n",
      "WARNING: more No IPv4 address found on en3 !\n"
     ]
    }
   ],
   "source": [
    "import warnings\n",
    "\n",
    "import pandas as pd\n",
    "\n",
    "from data_processor import DataProcessor\n",
    "warnings.filterwarnings(\"ignore\")\n",
    "from utils.logger_config import LoggerCustom\n",
    "LoggerCustom.set_level(\"DEBUG\")"
   ]
  },
  {
   "cell_type": "code",
   "execution_count": 2,
   "outputs": [
    {
     "name": "stderr",
     "output_type": "stream",
     "text": [
      "[INFO] Logger: <Starting Data processing...>\n",
      "[INFO] Logger: <Cleared output directory.>\n",
      "[DEBUG] Logger: <No processed_files.pickle file found. Creating new one...>\n",
      "[DEBUG] Logger: <Read file: www.youtube.com_94_10.10.57.163.pcap>\n",
      "[DEBUG] Logger: <Read file: www.youtube.com_12_10.10.57.162.pcap>\n",
      "[DEBUG] Logger: <Concatenated file: www.youtube.com_12_10.10.57.162.pcap>\n",
      "[DEBUG] Logger: <Chunk size reached, saving chunk #1>\n",
      "[DEBUG] Logger: <Read file: ww.google.com.tw_164_10.10.57.164.pcap>\n",
      "[DEBUG] Logger: <Read file: www.youtube.com_44_10.10.57.163.pcap>\n",
      "[DEBUG] Logger: <Concatenated file: www.youtube.com_44_10.10.57.163.pcap>\n",
      "[DEBUG] Logger: <Read file: ww.onclkds.com_154_10.10.57.164.pcap>\n",
      "[DEBUG] Logger: <Concatenated file: ww.onclkds.com_154_10.10.57.164.pcap>\n",
      "[DEBUG] Logger: <Read file: www.youtube.com_15_10.10.57.164.pcap>\n",
      "[DEBUG] Logger: <Concatenated file: www.youtube.com_15_10.10.57.164.pcap>\n",
      "[DEBUG] Logger: <Chunk size reached, saving chunk #2>\n",
      "[DEBUG] Logger: <Read file: ww.instagram.com_27_10.10.57.87.pcap>\n",
      "[DEBUG] Logger: <Read file: ww.pornhub.com_136_10.10.57.164.pcap>\n",
      "[DEBUG] Logger: <Concatenated file: ww.pornhub.com_136_10.10.57.164.pcap>\n",
      "[DEBUG] Logger: <Read file: www.youtube.com_22_10.10.57.163.pcap>\n",
      "[DEBUG] Logger: <Concatenated file: www.youtube.com_22_10.10.57.163.pcap>\n",
      "[DEBUG] Logger: <Chunk size reached, saving chunk #3>\n",
      "[DEBUG] Logger: <Read file: ww.wikipedia.org_105_10.10.57.163.pcap>\n",
      "[DEBUG] Logger: <Read file: www.youtube.com_73_10.10.57.164.pcap>\n",
      "[DEBUG] Logger: <Concatenated file: www.youtube.com_73_10.10.57.164.pcap>\n",
      "[DEBUG] Logger: <Read file: www.netflix.com_29_10.10.57.150.pcap>\n",
      "[DEBUG] Logger: <Concatenated file: www.netflix.com_29_10.10.57.150.pcap>\n",
      "[DEBUG] Logger: <Chunk size reached, saving chunk #4>\n",
      "[DEBUG] Logger: <Read file: www.netflix.com_22_10.10.57.68.pcap>\n",
      "[DEBUG] Logger: <Chunk size reached, saving chunk #5>\n",
      "[INFO] Logger: <Processed 5 chunks. Stopping...>\n"
     ]
    }
   ],
   "source": [
    "dp = DataProcessor()\n",
    "dp.run(\n",
    "    input_directory=\"../data/PCAP\",\n",
    "    output_directory=\"../out\",\n",
    "    append=False\n",
    ")"
   ],
   "metadata": {
    "collapsed": false,
    "ExecuteTime": {
     "end_time": "2023-12-08T22:22:26.113331Z",
     "start_time": "2023-12-08T22:21:53.172639Z"
    }
   }
  },
  {
   "cell_type": "code",
   "execution_count": 4,
   "outputs": [
    {
     "name": "stdout",
     "output_type": "stream",
     "text": [
      "            src           dst  dst_port  src_port  proto  size  \\\n",
      "0   10.10.57.38  10.10.57.255       138       138     17   229   \n",
      "1  10.10.57.113   224.0.0.251      5353      5353     17   425   \n",
      "2  10.10.57.113   224.0.0.251      5353      5353     17    80   \n",
      "3  10.10.57.163  10.10.57.255       137       137     17    78   \n",
      "4  10.10.57.163   224.0.0.252      5355     65336     17    50   \n",
      "\n",
      "                           time provider  tcp  udp  payload_size  \\\n",
      "0 2019-07-30 17:37:08.512995840  youtube    0    1           229   \n",
      "1 2019-07-30 17:37:08.512995840  youtube    0    1           425   \n",
      "2 2019-07-30 17:37:08.614459136  youtube    0    1            80   \n",
      "3 2019-07-30 17:37:10.065138944  youtube    0    1            78   \n",
      "4 2019-07-30 17:37:10.065628928  youtube    0    1            50   \n",
      "\n",
      "   fragmentation  \n",
      "0              0  \n",
      "1              0  \n",
      "2              0  \n",
      "3              0  \n",
      "4              0  \n"
     ]
    }
   ],
   "source": [
    "df = pd.read_feather(\"../out/chunk_1.ftr\")\n",
    "print(df.head())"
   ],
   "metadata": {
    "collapsed": false,
    "ExecuteTime": {
     "end_time": "2023-12-08T22:22:29.469394Z",
     "start_time": "2023-12-08T22:22:29.410017Z"
    }
   }
  },
  {
   "cell_type": "code",
   "execution_count": null,
   "outputs": [],
   "source": [
    "df.shape"
   ],
   "metadata": {
    "collapsed": false
   }
  },
  {
   "cell_type": "code",
   "execution_count": null,
   "outputs": [],
   "source": [],
   "metadata": {
    "collapsed": false
   }
  }
 ],
 "metadata": {
  "kernelspec": {
   "display_name": "Python 3",
   "language": "python",
   "name": "python3"
  },
  "language_info": {
   "codemirror_mode": {
    "name": "ipython",
    "version": 2
   },
   "file_extension": ".py",
   "mimetype": "text/x-python",
   "name": "python",
   "nbconvert_exporter": "python",
   "pygments_lexer": "ipython2",
   "version": "2.7.6"
  }
 },
 "nbformat": 4,
 "nbformat_minor": 0
}
