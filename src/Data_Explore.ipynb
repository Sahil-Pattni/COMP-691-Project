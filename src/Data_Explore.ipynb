{
 "cells": [
  {
   "cell_type": "code",
   "execution_count": 1,
   "metadata": {
    "collapsed": true,
    "ExecuteTime": {
     "end_time": "2023-12-07T02:07:54.242666Z",
     "start_time": "2023-12-07T02:07:49.737978Z"
    }
   },
   "outputs": [
    {
     "name": "stderr",
     "output_type": "stream",
     "text": [
      "WARNING: No IPv4 address found on anpi0 !\n",
      "WARNING: No IPv4 address found on anpi1 !\n",
      "WARNING: more No IPv4 address found on en3 !\n"
     ]
    }
   ],
   "source": [
    "import warnings\n",
    "\n",
    "import scapy.plist\n",
    "\n",
    "warnings.filterwarnings(\"ignore\")\n",
    "\n",
    "import logging\n",
    "from utils.logger_config import LoggerCustom\n",
    "\n",
    "from typing import List\n",
    "\n",
    "\n",
    "# Import the necessary libraries to read .pcap files\n",
    "from scapy.all import *\n",
    "from scapy.layers.inet import IP\n",
    "from scapy.layers.inet import TCP\n",
    "from scapy.layers.inet import UDP\n",
    "\n",
    "\n",
    "from src.utils.utils import get_prefix\n",
    "\n",
    "import pandas as pd\n",
    "import numpy as np\n",
    "import matplotlib.pyplot as plt\n",
    "import seaborn as sns\n",
    "import fnmatch\n",
    "import os\n",
    "import re"
   ]
  },
  {
   "cell_type": "code",
   "execution_count": 9,
   "outputs": [
    {
     "name": "stderr",
     "output_type": "stream",
     "text": [
      "[INFO] Logger: <Starting Data processing...>\n",
      "[INFO] Logger: <Regex used: (\\w+).(google).\\w+_([\\d]+)_([\\d\\.]+).pcap>\n",
      "[INFO] Logger: <Data processing finished, processed 33 files>\n"
     ]
    }
   ],
   "source": [
    "logger = LoggerCustom.get_logger(\"Data Processing\", level=logging.INFO)\n",
    "\n",
    "class DataProcessor():\n",
    "    def __init__(self):\n",
    "        pass\n",
    "\n",
    "    # ----- PUBLIC METHODS ----- #\n",
    "    def run(self, filepath: str, provider: str = None):\n",
    "        logger.info(\"Starting Data processing...\")\n",
    "        files = self.__get_pcap_file_list(filepath, provider=provider)\n",
    "        for file in files:\n",
    "            logger.debug(f\"Processing file: {file.replace(filepath + '/', '')}\")\n",
    "            # df = self.read_pcap_file(file)\n",
    "            # logger.info(f\"File {file} processed\")\n",
    "            # logger.info(f\"Saving file {file} to csv\")\n",
    "            # df.to_csv(f\"{file}.csv\")\n",
    "        logger.info(f\"Data processing finished, processed {len(files):,} files\")\n",
    "\n",
    "\n",
    "    def read_pcap_file(self, file_path: str) -> pd.DataFrame:\n",
    "        \"\"\"\n",
    "        Read the pcap file and return a dataframe\n",
    "        \"\"\"\n",
    "        packets: scapy.plist.PacketList = rdpcap(file_path)\n",
    "        df = pd.DataFrame(columns=['src', 'dst', 'sport', 'dport', 'proto', 'size', 'time'])\n",
    "        for packet in packets:\n",
    "\n",
    "            if IP in packet:\n",
    "                src = packet[IP].src\n",
    "                dst = packet[IP].dst\n",
    "                proto = packet[IP].proto\n",
    "                size = packet[IP].len\n",
    "                time = packet.time\n",
    "\n",
    "                if TCP in packet:\n",
    "                    s_port = packet[TCP].sport\n",
    "                    d_port = packet[TCP].dport\n",
    "                elif UDP in packet:\n",
    "                    s_port = packet[UDP].sport\n",
    "                    d_port = packet[UDP].dport\n",
    "                else:\n",
    "                    s_port = 0\n",
    "                    d_port = 0\n",
    "                df = df.append({'packet': packet, 'src': src, 'dst': dst, 'sport': s_port, 'dport': d_port, 'proto': proto, 'size': size, 'time': time}, ignore_index=True)\n",
    "        return df\n",
    "\n",
    "    # ----- PRIVATE METHODS ----- #\n",
    "    def __get_pcap_file_list(self, directory: str, provider:str=None) -> List[str]:\n",
    "        \"\"\"\n",
    "        Get the list of files in the given path\n",
    "        \"\"\"\n",
    "\n",
    "        # Default regex is all .pcap files\n",
    "        file_list: List[str] = []\n",
    "        regex: str = self.__generate_regex(domain_name=provider)\n",
    "        logger.info(f\"Regex used: {regex}\")\n",
    "        for root, dirs, files in os.walk(directory):\n",
    "            for file in files:\n",
    "                if re.match(regex, file):\n",
    "                    file_list.append(os.path.join(root, file))\n",
    "\n",
    "        return file_list\n",
    "\n",
    "\n",
    "    @functools.cache\n",
    "    def __generate_regex(self, domain_name: str = None):\n",
    "        # Default regex to get all .pcap files\n",
    "        subdomain: str = r\"\\w+\"\n",
    "        domain_name: str = domain_name or r\"\\w+\"\n",
    "        top_level_domain: str = r\"\\w+\"\n",
    "        unknown: str = r\"[\\d]+\"\n",
    "        address: str = r\"[\\d\\.]+\"\n",
    "\n",
    "        return fr\"({subdomain}).({domain_name}).{top_level_domain}_({unknown})_({address}).pcap\"\n",
    "\n",
    "\n",
    "\n",
    "dp = DataProcessor()\n",
    "dp.run(f\"{get_prefix(True)}data/PCAP\", provider=\"google\")"
   ],
   "metadata": {
    "collapsed": false,
    "ExecuteTime": {
     "end_time": "2023-12-07T02:13:20.317105Z",
     "start_time": "2023-12-07T02:13:20.310443Z"
    }
   }
  },
  {
   "cell_type": "code",
   "execution_count": 4,
   "outputs": [],
   "source": [],
   "metadata": {
    "collapsed": false,
    "ExecuteTime": {
     "end_time": "2023-12-07T02:09:32.865081Z",
     "start_time": "2023-12-07T02:09:32.849711Z"
    }
   }
  },
  {
   "cell_type": "code",
   "execution_count": null,
   "outputs": [],
   "source": [],
   "metadata": {
    "collapsed": false
   }
  }
 ],
 "metadata": {
  "kernelspec": {
   "display_name": "Python 3",
   "language": "python",
   "name": "python3"
  },
  "language_info": {
   "codemirror_mode": {
    "name": "ipython",
    "version": 2
   },
   "file_extension": ".py",
   "mimetype": "text/x-python",
   "name": "python",
   "nbconvert_exporter": "python",
   "pygments_lexer": "ipython2",
   "version": "2.7.6"
  }
 },
 "nbformat": 4,
 "nbformat_minor": 0
}
